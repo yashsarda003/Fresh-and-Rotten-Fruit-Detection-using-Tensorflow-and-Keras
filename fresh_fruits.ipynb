{
  "cells": [
    {
      "cell_type": "code",
      "execution_count": 1,
      "metadata": {
        "id": "JZoGfD4E3cC8"
      },
      "outputs": [],
      "source": [
        "import tensorflow as tf\n",
        "import pandas as pd\n",
        "from tensorflow import keras\n",
        "import numpy as np\n",
        "import matplotlib.pyplot as plt"
      ]
    },
    {
      "cell_type": "markdown",
      "metadata": {
        "id": "6-PtAi3sXsvB"
      },
      "source": [
        "**To mount our drive with collab notebook**"
      ]
    },
    {
      "cell_type": "code",
      "execution_count": 4,
      "metadata": {
        "colab": {
          "base_uri": "https://localhost:8080/"
        },
        "id": "efuY2VFPxqfO",
        "outputId": "2f173a93-c45e-4b3b-f5f5-5e1b51f86761"
      },
      "outputs": [
        {
          "name": "stdout",
          "output_type": "stream",
          "text": [
            "Drive already mounted at /content/drive; to attempt to forcibly remount, call drive.mount(\"/content/drive\", force_remount=True).\n"
          ]
        }
      ],
      "source": [
        "from google.colab import drive\n",
        "drive.mount('/content/drive')"
      ]
    },
    {
      "cell_type": "code",
      "execution_count": 11,
      "metadata": {
        "id": "QDko7iGK2-sO"
      },
      "outputs": [],
      "source": [
        "import os\n",
        "os.chdir(\"/content/drive/MyDrive/github/Fresh Fruit detection \")"
      ]
    },
    {
      "cell_type": "code",
      "execution_count": null,
      "metadata": {
        "id": "k-4fHTf63cnY"
      },
      "outputs": [],
      "source": [
        "print(os.listdir())"
      ]
    },
    {
      "cell_type": "markdown",
      "metadata": {
        "id": "ev1DZCmRT2FG"
      },
      "source": [
        "##Run this code to unzip the tar file"
      ]
    },
    {
      "cell_type": "code",
      "execution_count": null,
      "metadata": {
        "id": "LGhsn2GoQZww"
      },
      "outputs": [],
      "source": [
        "!tar -xvf \"dataset.tar.xz\" -C '/content/drive/MyDrive/github/Fresh Fruit detection '\n"
      ]
    },
    {
      "cell_type": "markdown",
      "metadata": {
        "id": "3a8Gbvy7UB28"
      },
      "source": [
        "##Rescaling our data\n"
      ]
    },
    {
      "cell_type": "code",
      "execution_count": 18,
      "metadata": {
        "id": "xApp8l7i996s"
      },
      "outputs": [],
      "source": [
        "import numpy as np\n",
        "import matplotlib.pyplot as plt\n",
        "import os\n",
        "import cv2"
      ]
    },
    {
      "cell_type": "code",
      "execution_count": 19,
      "metadata": {
        "id": "ZLJWmULzDUs0"
      },
      "outputs": [],
      "source": [
        "from tensorflow.keras.preprocessing.image import ImageDataGenerator\n",
        "from tensorflow.keras.preprocessing import image"
      ]
    },
    {
      "cell_type": "code",
      "execution_count": 20,
      "metadata": {
        "id": "svUp_MglEk1D"
      },
      "outputs": [],
      "source": [
        "train = ImageDataGenerator(rescale = 1/255)\n",
        "validation = ImageDataGenerator(rescale = 1/255)"
      ]
    },
    {
      "cell_type": "code",
      "execution_count": 21,
      "metadata": {
        "id": "ZBWkRT_vnQhO"
      },
      "outputs": [],
      "source": [
        "classes = ['Fresh','Rotten']"
      ]
    },
    {
      "cell_type": "code",
      "execution_count": 25,
      "metadata": {
        "colab": {
          "base_uri": "https://localhost:8080/"
        },
        "id": "R3NeMckJz8sg",
        "outputId": "203e31c1-4549-4c33-97c4-6d221815e677"
      },
      "outputs": [
        {
          "name": "stdout",
          "output_type": "stream",
          "text": [
            "Found 304 images belonging to 2 classes.\n"
          ]
        }
      ],
      "source": [
        "train_dataset = train.flow_from_directory(\n",
        "    '/content/drive/MyDrive/github/Fresh Fruit detection /dataset/train',\n",
        "    target_size = (200,200),\n",
        "    batch_size = 10,\n",
        "    class_mode = 'binary'\n",
        ")"
      ]
    },
    {
      "cell_type": "code",
      "execution_count": 26,
      "metadata": {
        "colab": {
          "base_uri": "https://localhost:8080/"
        },
        "id": "-qKklshD1K0n",
        "outputId": "a9703d4d-3af6-4c6b-c386-1a5ea5860306"
      },
      "outputs": [
        {
          "data": {
            "text/plain": [
              "{'fresh fruits': 0, 'rotten fruits': 1}"
            ]
          },
          "execution_count": 26,
          "metadata": {},
          "output_type": "execute_result"
        }
      ],
      "source": [
        "train_dataset.class_indices"
      ]
    },
    {
      "cell_type": "code",
      "execution_count": null,
      "metadata": {
        "id": "741DWUaf1TMY"
      },
      "outputs": [],
      "source": [
        "train_dataset.classes"
      ]
    },
    {
      "cell_type": "markdown",
      "metadata": {
        "id": "1RFGm_URSE7w"
      },
      "source": [
        "##**Creating our neural network**"
      ]
    },
    {
      "cell_type": "code",
      "execution_count": 31,
      "metadata": {
        "id": "hOKEuR0a1XNl"
      },
      "outputs": [],
      "source": [
        "# CNN newtork using max pooling \n",
        "model = tf.keras.models.Sequential([\n",
        "                                    tf.keras.layers.Conv2D(32,(3,3), activation = 'relu',input_shape=(200,200,3)),\n",
        "                                    tf.keras.layers.MaxPool2D(2,2),\n",
        "                                    #\n",
        "                                    tf.keras.layers.Conv2D(64,(3,3), activation = 'relu',input_shape=(200,200,3)),\n",
        "                                    tf.keras.layers.MaxPool2D(2,2),\n",
        "                                    #\n",
        "                                    tf.keras.layers.Conv2D(128,(3,3), activation = 'relu',input_shape=(200,200,3)),\n",
        "                                    tf.keras.layers.MaxPool2D(2,2),\n",
        "\n",
        "                                    ## \n",
        "                                    tf.keras.layers.Flatten(),\n",
        "                                    ##\n",
        "                                    tf.keras.layers.Dense(512,activation = 'relu'),\n",
        "                                    ## \n",
        "                                    tf.keras.layers.Dense(1,activation = 'sigmoid')\n",
        "])"
      ]
    },
    {
      "cell_type": "code",
      "execution_count": 32,
      "metadata": {
        "id": "E7WMWaOD4c0W"
      },
      "outputs": [],
      "source": [
        "model.compile(\n",
        "    loss = 'binary_crossentropy',\n",
        "    optimizer = 'adam',\n",
        "    metrics = ['accuracy'],\n",
        ")"
      ]
    },
    {
      "cell_type": "markdown",
      "metadata": {
        "id": "IyRO3DsQUOo7"
      },
      "source": [
        "**model Training increase the number of epochs to increase the model acccuracy**"
      ]
    },
    {
      "cell_type": "code",
      "execution_count": 34,
      "metadata": {
        "colab": {
          "base_uri": "https://localhost:8080/"
        },
        "id": "l_9oxZ-_3eDu",
        "outputId": "0dc8626e-a028-4560-9d28-71a97e42c9b5"
      },
      "outputs": [
        {
          "name": "stdout",
          "output_type": "stream",
          "text": [
            "31/31 [==============================] - 2s 68ms/step - loss: 0.2818 - accuracy: 0.8520\n"
          ]
        }
      ],
      "source": [
        "model_fit = model.fit(\n",
        "    train_dataset,\n",
        "    epochs = 1,\n",
        ")"
      ]
    },
    {
      "cell_type": "markdown",
      "metadata": {
        "id": "ODEJowNLUZCY"
      },
      "source": [
        "##Testing/validating our model"
      ]
    },
    {
      "cell_type": "code",
      "execution_count": null,
      "metadata": {
        "id": "zRwTu_rTMEFd"
      },
      "outputs": [],
      "source": [
        "dir_path = \"/content/drive/MyDrive/github/Fresh Fruit detection /dataset/validation\";\n",
        "for i in os.listdir(dir_path):\n",
        "  img = image.load_img(dir_path+'//'+i,target_size = (200,200))\n",
        "  plt.imshow(img)\n",
        "  plt.show()\n",
        "\n",
        "  x = image.img_to_array(img)\n",
        "  x = np.expand_dims(x,axis = 0)\n",
        "  images = np.vstack([x])\n",
        "\n",
        "  val = model.predict(images)\n",
        "\n",
        "  if(val ==0):\n",
        "      print(\"fresh Fruit\")\n",
        "  else:\n",
        "      print(\"Rotten Fruits\")"
      ]
    },
    {
      "cell_type": "markdown",
      "metadata": {
        "id": "1I29IC7fTBgd"
      },
      "source": [
        "##Saving and loding the model "
      ]
    },
    {
      "cell_type": "code",
      "execution_count": 38,
      "metadata": {
        "id": "qDOz6bvlS-cG"
      },
      "outputs": [],
      "source": [
        "model.save('model.h5')"
      ]
    },
    {
      "cell_type": "markdown",
      "metadata": {
        "id": "XWl1khWvTXFB"
      },
      "source": [
        "##Loading our saved model"
      ]
    },
    {
      "cell_type": "code",
      "execution_count": 39,
      "metadata": {
        "id": "B_5eLFenTV11"
      },
      "outputs": [],
      "source": [
        "new_model = tf.keras.models.load_model('/content/drive/MyDrive/github/Fresh Fruit detection /model.h5')"
      ]
    },
    {
      "cell_type": "code",
      "execution_count": null,
      "metadata": {
        "id": "qcfJ8XzBnfPU"
      },
      "outputs": [],
      "source": [
        "img = image.load_img(dir_path+'//'+i,target_size = (200,200))\n",
        "plt.imshow(img)\n",
        "plt.show()\n",
        "\n",
        "x = image.img_to_array(img)\n",
        "x = np.expand_dims(x,axis = 0)\n",
        "images = np.vstack([x])\n",
        "\n",
        "val = new_model.predict(images)\n",
        "\n",
        "if(val ==0):\n",
        "    print(\"fresh Fruit\")\n",
        "else:\n",
        "    print(\"Rotten Fruits\")\n"
      ]
    }
  ],
  "metadata": {
    "accelerator": "GPU",
    "colab": {
      "collapsed_sections": [],
      "name": "fresh_fruits.ipynb",
      "provenance": []
    },
    "kernelspec": {
      "display_name": "Python 3",
      "name": "python3"
    },
    "language_info": {
      "name": "python"
    }
  },
  "nbformat": 4,
  "nbformat_minor": 0
}
